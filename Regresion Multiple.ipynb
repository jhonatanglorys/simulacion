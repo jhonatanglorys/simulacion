{
 "cells": [
  {
   "cell_type": "code",
   "execution_count": 3,
   "metadata": {},
   "outputs": [],
   "source": [
    "import pandas as pd\n",
    "import matplotlib.pyplot as plt\n",
    "import numpy as np\n",
    "import math\n",
    "from numpy import random\n",
    "from scipy import stats\n",
    "from sklearn.model_selection import StratifiedKFold\n",
    "\n",
    "#Algunas advertencias que queremos evitar\n",
    "import warnings\n",
    "warnings.filterwarnings(\"always\")"
   ]
  },
  {
   "cell_type": "code",
   "execution_count": 4,
   "metadata": {},
   "outputs": [],
   "source": [
    "dataset_red = pd.read_csv('DB/data-selected.txt',  engine='python')\n",
    "\n",
    "#Se carga la base de datos \n",
    "X = dataset_red.iloc[:,1:54]\n",
    "Y = dataset_red.iloc[:,54]"
   ]
  },
  {
   "cell_type": "code",
   "execution_count": 35,
   "metadata": {},
   "outputs": [
    {
     "name": "stdout",
     "output_type": "stream",
     "text": [
      "ECM entrenamiento: 833.5113185918433\n",
      "ECM validacion: 406.69485090253096\n",
      "(9000,)\n",
      "(1000,)\n",
      "(9000,)\n",
      "(10000,)\n"
     ]
    }
   ],
   "source": [
    "from sklearn.model_selection import KFold\n",
    "from sklearn import preprocessing\n",
    "#http://benalexkeen.com/linear-regression-in-python-using-scikit-learn/\n",
    "from sklearn.linear_model import LinearRegression\n",
    "from sklearn.preprocessing import StandardScaler\n",
    "from sklearn.metrics import mean_squared_error, r2_score\n",
    "\n",
    "Folds = 10\n",
    "Errores = np.ones(Folds)\n",
    "Scores = np.ones(Folds)\n",
    "j = 0\n",
    "sum = 0\n",
    "kf = KFold(n_splits=Folds)\n",
    "\n",
    "for train_index, test_index in kf.split(X):\n",
    "        \n",
    "    X_train, X_test = X.iloc[train_index], X.iloc[test_index]\n",
    "    y_train, y_test = Y.iloc[train_index], Y.iloc[test_index]  \n",
    "       \n",
    "    \n",
    "    \n",
    "    #Normalizamos los datos\n",
    "    scaler = preprocessing.StandardScaler().fit(X_train)\n",
    "    X_train = scaler.transform(X_train)\n",
    "    X_test = scaler.transform(X_test)\n",
    "    \n",
    "    regression_model = LinearRegression(normalize=\"false\")\n",
    "    regression_model.fit(X_train, y_train)\n",
    "    y_pred= regression_model.predict(X_train)\n",
    "    y_pred_val= regression_model.predict(X_test)\n",
    "    \n",
    "print(\"ECM entrenamiento: \"+ str(mean_squared_error(y_pred,y_train))) \n",
    "print(\"ECM validacion: \"+ str(mean_squared_error(y_pred_val,y_test))) \n",
    "print(np.shape(y_pred))\n",
    "print(np.shape(y_test))\n",
    "print(np.shape(y_train))\n",
    "print(np.shape(Y))"
   ]
  },
  {
   "cell_type": "code",
   "execution_count": 31,
   "metadata": {},
   "outputs": [
    {
     "data": {
      "text/plain": [
       "0.4975430875229449"
      ]
     },
     "execution_count": 31,
     "metadata": {},
     "output_type": "execute_result"
    }
   ],
   "source": [
    "#Valor de R cuadrado para la regresión múltiple\n",
    "regression_model.score(X_test, y_test)"
   ]
  },
  {
   "cell_type": "code",
   "execution_count": null,
   "metadata": {},
   "outputs": [],
   "source": []
  }
 ],
 "metadata": {
  "kernelspec": {
   "display_name": "Python 3",
   "language": "python",
   "name": "python3"
  },
  "language_info": {
   "codemirror_mode": {
    "name": "ipython",
    "version": 3
   },
   "file_extension": ".py",
   "mimetype": "text/x-python",
   "name": "python",
   "nbconvert_exporter": "python",
   "pygments_lexer": "ipython3",
   "version": "3.6.5"
  }
 },
 "nbformat": 4,
 "nbformat_minor": 2
}
